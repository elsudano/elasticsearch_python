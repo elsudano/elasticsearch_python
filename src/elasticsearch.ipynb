{
 "cells": [
  {
   "cell_type": "markdown",
   "metadata": {},
   "source": [
    "# ElasticSearch DSL"
   ]
  },
  {
   "cell_type": "markdown",
   "metadata": {},
   "source": [
    "Librería de alto nivel que ayuda a escribir y ejecutar consultas en Elastic.\n",
    "Proporciona una API más idiomática y pythonica para manipular y componer consultas.\n",
    "Proporciona una capa para trabajar con los documentos, definiendo el mapping, rescatar, actualizar, guardar documentos,  usando orientación a objetos."
   ]
  },
  {
   "cell_type": "markdown",
   "metadata": {},
   "source": [
    "### Conexión con nuestro cluster."
   ]
  },
  {
   "cell_type": "markdown",
   "metadata": {},
   "source": [
    "Tenemos una forma cómoda de conectarnos, tan solo indicando una lista de dominios o ips, de los nodos de nuestro cluster. Permite configurar muchas opciones de la capa de transporte, incluidos certificados ssl."
   ]
  },
  {
   "cell_type": "code",
   "execution_count": 1,
   "metadata": {},
   "outputs": [
    {
     "data": {
      "text/plain": [
       "<Elasticsearch([{'host': 'elasticsearch'}])>"
      ]
     },
     "execution_count": 1,
     "metadata": {},
     "output_type": "execute_result"
    }
   ],
   "source": [
    "from elasticsearch_dsl import connections\n",
    "\n",
    "connections.create_connection(hosts=['elasticsearch'])"
   ]
  },
  {
   "cell_type": "markdown",
   "metadata": {},
   "source": [
    "La api de Elasticsearch DSL, permite comprobar el estado de nuestro cluster."
   ]
  },
  {
   "cell_type": "code",
   "execution_count": 32,
   "metadata": {},
   "outputs": [
    {
     "data": {
      "text/plain": [
       "'yellow'"
      ]
     },
     "execution_count": 32,
     "metadata": {},
     "output_type": "execute_result"
    }
   ],
   "source": [
    "# Consultamos el estado de nuestro cluster, (red, yellow, green).\n",
    "connections.get_connection().cluster.health()['status']"
   ]
  },
  {
   "cell_type": "markdown",
   "metadata": {},
   "source": [
    "### Uso de Mapping"
   ]
  },
  {
   "cell_type": "markdown",
   "metadata": {},
   "source": [
    "De forma opcional, podemos definir un mapping elasticsearch, desde una clase python. Esto tiene multiples ventajas.\n",
    "\n",
    "1. Fijar nosotros mismos la naturaleza de la información que vamos a almacenar en el indice.\n",
    "2. Trabajar con los documentos de este indice, haciendo uso de los atributos y los métodos de la clase,\n",
    "pudiendo hacer programación orientada a objetos.\n",
    "3. Definir nosotros mismos el \"analyzer\" que se debe aplicar.\n",
    "4. Definir de forma programática, opciones de la configuración del índice.\n",
    "\n",
    "\n",
    "En este caso usamos el analizador \"snowball\", para ver más [https://snowballstem.org/](https://snowballstem.org/). \n",
    "Para conocer todos los [built_in_analyzers](https://www.elastic.co/guide/en/elasticsearch/guide/master/analysis-intro.html#_built_in_analyzers) podemos consultar la referencia."
   ]
  },
  {
   "cell_type": "code",
   "execution_count": 4,
   "metadata": {},
   "outputs": [],
   "source": [
    "from datetime import datetime\n",
    "from elasticsearch_dsl import Document, Date, Integer, Keyword, Text\n",
    "from elasticsearch_dsl.connections import connections\n",
    "\n",
    "\n",
    "class Article(Document):\n",
    "    title = Text(analyzer='snowball', fields={'raw': Keyword()})\n",
    "    body = Text(analyzer='snowball')\n",
    "    tags = Keyword()\n",
    "    published_from = Date()\n",
    "    words = Integer()\n",
    "    url = Keyword()\n",
    "\n",
    "    class Index:\n",
    "        name = 'blog'\n",
    "        settings = {\n",
    "          \"number_of_shards\": 2,\n",
    "        }\n",
    "\n",
    "    def save(self, ** kwargs):\n",
    "        self.words = len(self.body.split())\n",
    "        return super(Article, self).save(** kwargs)\n",
    "\n",
    "    def is_published(self):\n",
    "        return datetime.now() >= self.published_from"
   ]
  },
  {
   "cell_type": "code",
   "execution_count": 6,
   "metadata": {},
   "outputs": [],
   "source": [
    "import elasticsearch.exceptions as elasticexceptions\n",
    "from elasticsearch_dsl import Index\n",
    "\n",
    "# Instanciar un objeto referente al índice.\n",
    "index = Index(\"blog\")\n",
    "\n",
    "try:\n",
    "    # En caso de existir previamente, obligamos a borrarlo.\n",
    "    index.delete()\n",
    "except elasticexceptions.NotFoundError:\n",
    "    pass\n",
    "\n",
    "# Ejecutamos la creación del índice, con el mapping definido.\n",
    "Article.init()"
   ]
  },
  {
   "cell_type": "markdown",
   "metadata": {},
   "source": [
    "Una vez creado el indice, ya podemos empezar a crear documentos."
   ]
  },
  {
   "cell_type": "markdown",
   "metadata": {},
   "source": [
    "Creamos manualmente una serie de objetos de tipo de Articulo."
   ]
  },
  {
   "cell_type": "code",
   "execution_count": 26,
   "metadata": {},
   "outputs": [
    {
     "data": {
      "text/plain": [
       "'created'"
      ]
     },
     "execution_count": 26,
     "metadata": {},
     "output_type": "execute_result"
    }
   ],
   "source": [
    "article1 = Article(title='Docketiza tu aplicación', tags=['devops', 'virtualizacion', 'docker'])\n",
    "article1.body = '''Hoy día quizá escuches frecuentemente términos como Devops, Virtualización y por supuesto Cloud. En las siguientes lineas hablaremos sobre ellas y además para hacer la cosa más divertida  presentar una aplicación real de todos estos conceptos.Virtualización es un concepto muy amplio y tiene diferentes aplicaciones según el nivel donde se dé, ya hemos hablado en otra ocasión de Copicloud, donde la virtualización llega al extremo, convirtiéndose en un “cloud”.Hoy nos centraremos en otro nivel de virtualización, destinado tanto a desarrolladores como a administradores de sistemas, es por ello que os presento la herramienta Docker. Por ser actualmente una de las herramientas preferidas en el mundillo Devops. '''\n",
    "article1.published_from = datetime.now()\n",
    "article1.url = \"http://blog.intelligenia.com/2016/06/docketiza-tu-aplicacion.html\"\n",
    "article1.save()\n",
    "\n",
    "article2 = Article(title='Consumiendo websocket desde el bar', tags=['websocket', 'http', 'services'])\n",
    "article2.body = ''' No podemos negar que Internet está creciendo, tanto en número de usuario, como en número de servicios que ofrece, así como en número de dispositivos que están conectados. Esto hace que las necesidades también sean mayores y las aplicaciones se adapten a cada una de ellas.Hoy día, estamos acostumbrados a trabajar con aplicaciones cada vez más dinámicas. Donde el proceso de comunicación sea cada vez más transparente al usuario, de forma que no se perciba el constante diálogo con el servidor web. Estamos cada vez más familiarizados con aplicaciones que nos muestran información en tiempo real, ya sea el estado de la bolsa o el tiempo meteorológico de nuestra zona, aplicaciones que nos muestran notificaciones y se actualiza nuestra bandeja de correo electrónico, así como chats donde podemos conversar con otros usuarios.Una tecnología reciente que permite tener una comunicación bidireccional y persistente entre nuestras aplicaciones web y el servidor web, recibe el nombre de Websocket.'''\n",
    "article2.published_from = datetime.now()\n",
    "article1.url = \"http://blog.intelligenia.com/2016/12/consumiendo-websocket-desde-el-bar.html\"\n",
    "article2.save()\n",
    "\n",
    "article3 = Article(title='APIS fantásticas y dónde encontrarlas', tags=['graphql', 'rest', 'soap'])\n",
    "article3.body = ''' Es una realidad que el incremento en la oferta de APIS públicas se ha disparado en los últimos años. En las siguientes líneas vamos a tratar de adentrarnos en esta tecnología, conocer los motivos de dicho crecimiento, así como ver algunas de las APIS más interesantes que tenemos a nuestro alcance y podemos probar.Si no estás familiarizado con la terminología quizá no te diga mucho las siglas \"API\", para comenzar te puedo decir que se refieren a la traducción inglesa de \"interfaz de programación de aplicaciones\". Muy resumidamente podemos decir que las APIS, es una de las formas más importantes con las que contamos para conectar unas aplicaciones con otras, ya sean aplicaciones propias o de terceros. Con las APIS logramos que unos sistemas puedan acceder a funcionalidad o información que se encuentra en otros sistemas.Anteriormente en en la entrada \"Cómo crear una API RESTful con Django REST-framework\", se explica de una forma muy interesante cómo implementar y exponer una API RESTful usando tecnología Django y se comentan muchos conceptos relacionados. Por ello si te interesa el tema te recomiendo que lo visitéis.En esta ocasión vamos a tratar el tema desde un punto de vista diferente. Viendo la utilidad que nos plantea servirnos de APIs de terceros para ampliar la funcionalidad de nuestras propias aplicaciones o sistemas.'''\n",
    "article3.published_from = datetime.now()\n",
    "article3.url = \"http://blog.intelligenia.com/2017/10/apis-fantasticas-y-donde-encontrarlas.html\"\n",
    "article3.save()"
   ]
  },
  {
   "cell_type": "markdown",
   "metadata": {},
   "source": [
    "Podemos crear una búsqueda básica."
   ]
  },
  {
   "cell_type": "code",
   "execution_count": 8,
   "metadata": {},
   "outputs": [
    {
     "name": "stdout",
     "output_type": "stream",
     "text": [
      "\u001b[94m__________________________________________________________\u001b[0m\n",
      "\n",
      "\u001b[94m{\n",
      "    \"query\": {\n",
      "        \"match\": {\n",
      "            \"body\": \"Django\"\n",
      "        }\n",
      "    }\n",
      "}\u001b[0m\n",
      "\u001b[94m__________________________________________________________\u001b[0m\n",
      "\n",
      "APIS fantásticas y dónde encontrarlas  217\n"
     ]
    }
   ],
   "source": [
    "from utils import json_print\n",
    "\n",
    "\n",
    "search = Article.search().query(\"match\", body=\"Django\")\n",
    "#search = search.highlight_options(order='score')\n",
    "#search = search.highlight('body')\n",
    "\n",
    "json_print(search.to_dict())\n",
    "response = search.execute()\n",
    "\n",
    "print()\n",
    "result = [print(f\"{hit.title}  {hit.words}\") for hit in search]    \n",
    "\n",
    "\n",
    "#for hit in response:\n",
    "#    for fragment in hit.meta.highlight.body:\n",
    "#        print(fragment)"
   ]
  },
  {
   "cell_type": "markdown",
   "metadata": {},
   "source": [
    "Tambien podemos aplicar filtros y ordenaciones"
   ]
  },
  {
   "cell_type": "code",
   "execution_count": 9,
   "metadata": {},
   "outputs": [
    {
     "name": "stdout",
     "output_type": "stream",
     "text": [
      "\u001b[94m__________________________________________________________\u001b[0m\n",
      "\n",
      "\u001b[94m{\n",
      "    \"query\": {\n",
      "        \"bool\": {\n",
      "            \"filter\": [\n",
      "                {\n",
      "                    \"terms\": {\n",
      "                        \"tags\": [\n",
      "                            \"docker\"\n",
      "                        ]\n",
      "                    }\n",
      "                }\n",
      "            ]\n",
      "        }\n",
      "    },\n",
      "    \"sort\": [\n",
      "        {\n",
      "            \"words\": {\n",
      "                \"order\": \"desc\"\n",
      "            }\n",
      "        }\n",
      "    ]\n",
      "}\u001b[0m\n",
      "\u001b[94m__________________________________________________________\u001b[0m\n",
      "\n",
      "Docketiza tu aplicación  106\n"
     ]
    }
   ],
   "source": [
    "search = Article.search().filter('terms', tags=['docker']).sort('-words')\n",
    "\n",
    "json_print(search.to_dict())\n",
    "print()\n",
    "\n",
    "response = search.execute()\n",
    "result = [print(f\"{hit.title}  {hit.words}\") for hit in search]  "
   ]
  },
  {
   "cell_type": "code",
   "execution_count": 10,
   "metadata": {},
   "outputs": [
    {
     "name": "stdout",
     "output_type": "stream",
     "text": [
      "\u001b[94m__________________________________________________________\u001b[0m\n",
      "\n",
      "\u001b[94m{\n",
      "    \"query\": {\n",
      "        \"bool\": {\n",
      "            \"should\": [\n",
      "                {\n",
      "                    \"match\": {\n",
      "                        \"tags\": \"python\"\n",
      "                    }\n",
      "                },\n",
      "                {\n",
      "                    \"match\": {\n",
      "                        \"tags\": \"rest\"\n",
      "                    }\n",
      "                }\n",
      "            ]\n",
      "        }\n",
      "    }\n",
      "}\u001b[0m\n",
      "\u001b[94m__________________________________________________________\u001b[0m\n",
      "\n",
      "APIS fantásticas y dónde encontrarlas  217\n"
     ]
    }
   ],
   "source": [
    "from elasticsearch_dsl import Q \n",
    "import json\n",
    "q = Q(\"match\", tags='python') | Q(\"match\", tags='rest')\n",
    "search = Article.search().query(q)\n",
    "\n",
    "json_print(search.to_dict())\n",
    "print()\n",
    "response = search.execute()\n",
    "result = [print(f\"{hit.title}  {hit.words}\") for hit in search] \n"
   ]
  },
  {
   "cell_type": "code",
   "execution_count": 26,
   "metadata": {},
   "outputs": [
    {
     "name": "stdout",
     "output_type": "stream",
     "text": [
      "\u001b[94m__________________________________________________________\u001b[0m\n",
      "\n",
      "\u001b[94m{\n",
      "    \"query\": {\n",
      "        \"bool\": {\n",
      "            \"must\": [\n",
      "                {\n",
      "                    \"match\": {\n",
      "                        \"tags\": \"graphql\"\n",
      "                    }\n",
      "                },\n",
      "                {\n",
      "                    \"match\": {\n",
      "                        \"tags\": \"soap\"\n",
      "                    }\n",
      "                }\n",
      "            ]\n",
      "        }\n",
      "    }\n",
      "}\u001b[0m\n",
      "\u001b[94m__________________________________________________________\u001b[0m\n",
      "\n",
      "APIS fantásticas y dónde encontrarlas  217\n"
     ]
    }
   ],
   "source": [
    "from elasticsearch_dsl import Q \n",
    "import json\n",
    "q = Q(\"match\", tags='graphql') & Q(\"match\", tags='soap')\n",
    "search = Article.search().query(q)\n",
    "\n",
    "\n",
    "json_print(search.to_dict())\n",
    "print()\n",
    "\n",
    "response = search.execute()\n",
    "result = [print(f\"{hit.title}  {hit.words}\") for hit in search] "
   ]
  },
  {
   "cell_type": "code",
   "execution_count": 28,
   "metadata": {},
   "outputs": [
    {
     "name": "stdout",
     "output_type": "stream",
     "text": [
      "\u001b[94m__________________________________________________________\u001b[0m\n",
      "\n",
      "\u001b[94m{\n",
      "    \"query\": {\n",
      "        \"bool\": {\n",
      "            \"must_not\": [\n",
      "                {\n",
      "                    \"match\": {\n",
      "                        \"tags\": \"python\"\n",
      "                    }\n",
      "                },\n",
      "                {\n",
      "                    \"match\": {\n",
      "                        \"tags\": \"websocket\"\n",
      "                    }\n",
      "                }\n",
      "            ]\n",
      "        }\n",
      "    }\n",
      "}\u001b[0m\n",
      "\u001b[94m__________________________________________________________\u001b[0m\n",
      "\n",
      "Docketiza tu aplicación  ['devops', 'virtualizacion', 'docker']\n",
      "APIS fantásticas y dónde encontrarlas  ['graphql', 'rest', 'soap']\n"
     ]
    }
   ],
   "source": [
    "from elasticsearch_dsl import Q \n",
    "import json\n",
    "\n",
    "q = ~Q(\"match\", tags='python') & ~Q(\"match\", tags='websocket')\n",
    "search = Article.search().query(q)\n",
    "\n",
    "json_print(search.to_dict())\n",
    "print()\n",
    "\n",
    "response = search.execute()\n",
    "result = [print(f\"{hit.title}  {hit.tags}\") for hit in search] "
   ]
  },
  {
   "cell_type": "code",
   "execution_count": 11,
   "metadata": {},
   "outputs": [
    {
     "name": "stdout",
     "output_type": "stream",
     "text": [
      "\u001b[94m__________________________________________________________\u001b[0m\n",
      "\n",
      "\u001b[94m{\n",
      "    \"query\": {\n",
      "        \"query_string\": {\n",
      "            \"query\": \"tags:python OR tags:websocket\"\n",
      "        }\n",
      "    }\n",
      "}\u001b[0m\n",
      "\u001b[94m__________________________________________________________\u001b[0m\n",
      "Consumiendo websocket desde el bar  ['websocket', 'http', 'services']\n"
     ]
    }
   ],
   "source": [
    "q='tags:python OR tags:websocket'\n",
    "search = Article.search().query(\"query_string\", query=q)\n",
    "\n",
    "json_print(search.to_dict())\n",
    "\n",
    "response = search.execute()\n",
    "result = [print(f\"{hit.title}  {hit.tags}\") for hit in search] "
   ]
  },
  {
   "cell_type": "markdown",
   "metadata": {},
   "source": [
    "## Ejemplo Titanic."
   ]
  },
  {
   "cell_type": "code",
   "execution_count": 12,
   "metadata": {},
   "outputs": [],
   "source": [
    "from elasticsearch_dsl import Document, Date, Integer, Keyword, Text, Boolean, Float\n",
    "import elasticsearch.exceptions as elasticexceptions\n",
    "from elasticsearch_dsl import Index\n",
    "import os\n",
    "\n",
    "csv_path=f\"{os.getcwd()}/data/titanic.csv\"\n",
    "\n",
    "class TitanicPassenger(Document):\n",
    "    passengerid = Keyword()\n",
    "    survived = Integer()\n",
    "    pclass = Integer()\n",
    "    name = Text(analyzer='snowball')\n",
    "    sex = Keyword()\n",
    "    age = Integer()\n",
    "    sibsp = Integer()\n",
    "    parch = Integer()\n",
    "    ticket = Keyword()\n",
    "    fare = Float()\n",
    "    embarked = Keyword()\n",
    "    \n",
    "    class Index:\n",
    "        name = 'titanic'\n",
    "        settings = {\n",
    "          \"number_of_shards\": 2,\n",
    "          \"blocks\":{'read_only_allow_delete': None}\n",
    "        }\n",
    "\n",
    "def reset_titanic():\n",
    "    index = Index(\"titanic\")\n",
    "    try:\n",
    "        index.delete()\n",
    "    except elasticexceptions.NotFoundError:\n",
    "        pass\n",
    "\n",
    "    TitanicPassenger.init()"
   ]
  },
  {
   "cell_type": "code",
   "execution_count": 13,
   "metadata": {},
   "outputs": [
    {
     "data": {
      "text/html": [
       "<div>\n",
       "<style scoped>\n",
       "    .dataframe tbody tr th:only-of-type {\n",
       "        vertical-align: middle;\n",
       "    }\n",
       "\n",
       "    .dataframe tbody tr th {\n",
       "        vertical-align: top;\n",
       "    }\n",
       "\n",
       "    .dataframe thead th {\n",
       "        text-align: right;\n",
       "    }\n",
       "</style>\n",
       "<table border=\"1\" class=\"dataframe\">\n",
       "  <thead>\n",
       "    <tr style=\"text-align: right;\">\n",
       "      <th></th>\n",
       "      <th>passengerid</th>\n",
       "      <th>survived</th>\n",
       "      <th>pclass</th>\n",
       "      <th>name</th>\n",
       "      <th>sex</th>\n",
       "      <th>age</th>\n",
       "      <th>sibsp</th>\n",
       "      <th>parch</th>\n",
       "      <th>ticket</th>\n",
       "      <th>fare</th>\n",
       "      <th>cabin</th>\n",
       "      <th>embarked</th>\n",
       "    </tr>\n",
       "  </thead>\n",
       "  <tbody>\n",
       "    <tr>\n",
       "      <th>0</th>\n",
       "      <td>1</td>\n",
       "      <td>0</td>\n",
       "      <td>3</td>\n",
       "      <td>Braund, Mr. Owen Harris</td>\n",
       "      <td>male</td>\n",
       "      <td>22</td>\n",
       "      <td>1</td>\n",
       "      <td>0</td>\n",
       "      <td>A/5 21171</td>\n",
       "      <td>7.2500</td>\n",
       "      <td>NaN</td>\n",
       "      <td>S</td>\n",
       "    </tr>\n",
       "    <tr>\n",
       "      <th>1</th>\n",
       "      <td>2</td>\n",
       "      <td>1</td>\n",
       "      <td>1</td>\n",
       "      <td>Cumings, Mrs. John Bradley</td>\n",
       "      <td>female</td>\n",
       "      <td>38</td>\n",
       "      <td>1</td>\n",
       "      <td>0</td>\n",
       "      <td>PC 17599</td>\n",
       "      <td>71.2833</td>\n",
       "      <td>C85</td>\n",
       "      <td>C</td>\n",
       "    </tr>\n",
       "    <tr>\n",
       "      <th>2</th>\n",
       "      <td>3</td>\n",
       "      <td>1</td>\n",
       "      <td>3</td>\n",
       "      <td>Heikkinen, Miss. Laina</td>\n",
       "      <td>female</td>\n",
       "      <td>26</td>\n",
       "      <td>0</td>\n",
       "      <td>0</td>\n",
       "      <td>STON/O2. 3101282</td>\n",
       "      <td>7925.0000</td>\n",
       "      <td>NaN</td>\n",
       "      <td>S</td>\n",
       "    </tr>\n",
       "    <tr>\n",
       "      <th>3</th>\n",
       "      <td>4</td>\n",
       "      <td>1</td>\n",
       "      <td>1</td>\n",
       "      <td>Futrelle, Mrs. Jacques Heath</td>\n",
       "      <td>female</td>\n",
       "      <td>35</td>\n",
       "      <td>1</td>\n",
       "      <td>0</td>\n",
       "      <td>113803</td>\n",
       "      <td>53.1000</td>\n",
       "      <td>C123</td>\n",
       "      <td>S</td>\n",
       "    </tr>\n",
       "    <tr>\n",
       "      <th>4</th>\n",
       "      <td>5</td>\n",
       "      <td>0</td>\n",
       "      <td>3</td>\n",
       "      <td>Allen, Mr. William Henry</td>\n",
       "      <td>male</td>\n",
       "      <td>35</td>\n",
       "      <td>0</td>\n",
       "      <td>0</td>\n",
       "      <td>373450</td>\n",
       "      <td>8.0500</td>\n",
       "      <td>NaN</td>\n",
       "      <td>S</td>\n",
       "    </tr>\n",
       "    <tr>\n",
       "      <th>5</th>\n",
       "      <td>6</td>\n",
       "      <td>0</td>\n",
       "      <td>3</td>\n",
       "      <td>Moran, Mr. James</td>\n",
       "      <td>male</td>\n",
       "      <td>0</td>\n",
       "      <td>0</td>\n",
       "      <td>0</td>\n",
       "      <td>330877</td>\n",
       "      <td>8.4583</td>\n",
       "      <td>NaN</td>\n",
       "      <td>Q</td>\n",
       "    </tr>\n",
       "    <tr>\n",
       "      <th>6</th>\n",
       "      <td>7</td>\n",
       "      <td>0</td>\n",
       "      <td>1</td>\n",
       "      <td>McCarthy, Mr. Timothy J</td>\n",
       "      <td>male</td>\n",
       "      <td>54</td>\n",
       "      <td>0</td>\n",
       "      <td>0</td>\n",
       "      <td>17463</td>\n",
       "      <td>51.8625</td>\n",
       "      <td>E46</td>\n",
       "      <td>S</td>\n",
       "    </tr>\n",
       "    <tr>\n",
       "      <th>7</th>\n",
       "      <td>8</td>\n",
       "      <td>0</td>\n",
       "      <td>3</td>\n",
       "      <td>Palsson, Master. Gosta Leonard</td>\n",
       "      <td>male</td>\n",
       "      <td>2</td>\n",
       "      <td>3</td>\n",
       "      <td>1</td>\n",
       "      <td>349909</td>\n",
       "      <td>21075.0000</td>\n",
       "      <td>NaN</td>\n",
       "      <td>S</td>\n",
       "    </tr>\n",
       "    <tr>\n",
       "      <th>8</th>\n",
       "      <td>9</td>\n",
       "      <td>1</td>\n",
       "      <td>3</td>\n",
       "      <td>Johnson, Mrs. Oscar W (Elisabeth Vilhelmina Berg)</td>\n",
       "      <td>female</td>\n",
       "      <td>27</td>\n",
       "      <td>0</td>\n",
       "      <td>2</td>\n",
       "      <td>347742</td>\n",
       "      <td>11.1333</td>\n",
       "      <td>NaN</td>\n",
       "      <td>S</td>\n",
       "    </tr>\n",
       "    <tr>\n",
       "      <th>9</th>\n",
       "      <td>10</td>\n",
       "      <td>1</td>\n",
       "      <td>2</td>\n",
       "      <td>Nasser, Mrs. Nicholas (Adele Achem)</td>\n",
       "      <td>female</td>\n",
       "      <td>14</td>\n",
       "      <td>1</td>\n",
       "      <td>0</td>\n",
       "      <td>237736</td>\n",
       "      <td>30.0708</td>\n",
       "      <td>NaN</td>\n",
       "      <td>C</td>\n",
       "    </tr>\n",
       "    <tr>\n",
       "      <th>10</th>\n",
       "      <td>11</td>\n",
       "      <td>1</td>\n",
       "      <td>3</td>\n",
       "      <td>Sandstrom, Miss. Marguerite Rut</td>\n",
       "      <td>female</td>\n",
       "      <td>4</td>\n",
       "      <td>1</td>\n",
       "      <td>1</td>\n",
       "      <td>PP 9549</td>\n",
       "      <td>16.7000</td>\n",
       "      <td>G6</td>\n",
       "      <td>S</td>\n",
       "    </tr>\n",
       "    <tr>\n",
       "      <th>11</th>\n",
       "      <td>12</td>\n",
       "      <td>1</td>\n",
       "      <td>1</td>\n",
       "      <td>Bonnell, Miss. Elizabeth</td>\n",
       "      <td>female</td>\n",
       "      <td>58</td>\n",
       "      <td>0</td>\n",
       "      <td>0</td>\n",
       "      <td>113783</td>\n",
       "      <td>26.5500</td>\n",
       "      <td>C103</td>\n",
       "      <td>S</td>\n",
       "    </tr>\n",
       "    <tr>\n",
       "      <th>12</th>\n",
       "      <td>13</td>\n",
       "      <td>0</td>\n",
       "      <td>3</td>\n",
       "      <td>Saundercock, Mr. William Henry</td>\n",
       "      <td>male</td>\n",
       "      <td>20</td>\n",
       "      <td>0</td>\n",
       "      <td>0</td>\n",
       "      <td>A/5. 2151</td>\n",
       "      <td>8.0500</td>\n",
       "      <td>NaN</td>\n",
       "      <td>S</td>\n",
       "    </tr>\n",
       "    <tr>\n",
       "      <th>13</th>\n",
       "      <td>14</td>\n",
       "      <td>0</td>\n",
       "      <td>3</td>\n",
       "      <td>Andersson, Mr. Anders Johan</td>\n",
       "      <td>male</td>\n",
       "      <td>39</td>\n",
       "      <td>1</td>\n",
       "      <td>5</td>\n",
       "      <td>347082</td>\n",
       "      <td>31275.0000</td>\n",
       "      <td>NaN</td>\n",
       "      <td>S</td>\n",
       "    </tr>\n",
       "    <tr>\n",
       "      <th>14</th>\n",
       "      <td>15</td>\n",
       "      <td>0</td>\n",
       "      <td>3</td>\n",
       "      <td>Vestrom, Miss. Hulda Amanda Adolfina</td>\n",
       "      <td>female</td>\n",
       "      <td>14</td>\n",
       "      <td>0</td>\n",
       "      <td>0</td>\n",
       "      <td>350406</td>\n",
       "      <td>7.8542</td>\n",
       "      <td>NaN</td>\n",
       "      <td>S</td>\n",
       "    </tr>\n",
       "    <tr>\n",
       "      <th>15</th>\n",
       "      <td>16</td>\n",
       "      <td>1</td>\n",
       "      <td>2</td>\n",
       "      <td>Hewlett, Mrs. (Mary D Kingcome)</td>\n",
       "      <td>female</td>\n",
       "      <td>55</td>\n",
       "      <td>0</td>\n",
       "      <td>0</td>\n",
       "      <td>248706</td>\n",
       "      <td>16.0000</td>\n",
       "      <td>NaN</td>\n",
       "      <td>S</td>\n",
       "    </tr>\n",
       "    <tr>\n",
       "      <th>16</th>\n",
       "      <td>17</td>\n",
       "      <td>0</td>\n",
       "      <td>3</td>\n",
       "      <td>Rice, Master. Eugene</td>\n",
       "      <td>male</td>\n",
       "      <td>2</td>\n",
       "      <td>4</td>\n",
       "      <td>1</td>\n",
       "      <td>382652</td>\n",
       "      <td>29125.0000</td>\n",
       "      <td>NaN</td>\n",
       "      <td>Q</td>\n",
       "    </tr>\n",
       "    <tr>\n",
       "      <th>17</th>\n",
       "      <td>18</td>\n",
       "      <td>1</td>\n",
       "      <td>2</td>\n",
       "      <td>Williams, Mr. Charles Eugene</td>\n",
       "      <td>male</td>\n",
       "      <td>0</td>\n",
       "      <td>0</td>\n",
       "      <td>0</td>\n",
       "      <td>244373</td>\n",
       "      <td>13.0000</td>\n",
       "      <td>NaN</td>\n",
       "      <td>S</td>\n",
       "    </tr>\n",
       "    <tr>\n",
       "      <th>18</th>\n",
       "      <td>19</td>\n",
       "      <td>0</td>\n",
       "      <td>3</td>\n",
       "      <td>Vander Planke, Mrs. Julius (Emelia Maria Vande...</td>\n",
       "      <td>female</td>\n",
       "      <td>31</td>\n",
       "      <td>1</td>\n",
       "      <td>0</td>\n",
       "      <td>345763</td>\n",
       "      <td>18.0000</td>\n",
       "      <td>NaN</td>\n",
       "      <td>S</td>\n",
       "    </tr>\n",
       "    <tr>\n",
       "      <th>19</th>\n",
       "      <td>20</td>\n",
       "      <td>1</td>\n",
       "      <td>3</td>\n",
       "      <td>Masselmani, Mrs. Fatima</td>\n",
       "      <td>female</td>\n",
       "      <td>0</td>\n",
       "      <td>0</td>\n",
       "      <td>0</td>\n",
       "      <td>2649</td>\n",
       "      <td>7225.0000</td>\n",
       "      <td>NaN</td>\n",
       "      <td>C</td>\n",
       "    </tr>\n",
       "  </tbody>\n",
       "</table>\n",
       "</div>"
      ],
      "text/plain": [
       "    passengerid  survived  pclass  \\\n",
       "0             1         0       3   \n",
       "1             2         1       1   \n",
       "2             3         1       3   \n",
       "3             4         1       1   \n",
       "4             5         0       3   \n",
       "5             6         0       3   \n",
       "6             7         0       1   \n",
       "7             8         0       3   \n",
       "8             9         1       3   \n",
       "9            10         1       2   \n",
       "10           11         1       3   \n",
       "11           12         1       1   \n",
       "12           13         0       3   \n",
       "13           14         0       3   \n",
       "14           15         0       3   \n",
       "15           16         1       2   \n",
       "16           17         0       3   \n",
       "17           18         1       2   \n",
       "18           19         0       3   \n",
       "19           20         1       3   \n",
       "\n",
       "                                                 name     sex  age  sibsp  \\\n",
       "0                             Braund, Mr. Owen Harris    male   22      1   \n",
       "1                          Cumings, Mrs. John Bradley  female   38      1   \n",
       "2                              Heikkinen, Miss. Laina  female   26      0   \n",
       "3                        Futrelle, Mrs. Jacques Heath  female   35      1   \n",
       "4                            Allen, Mr. William Henry    male   35      0   \n",
       "5                                    Moran, Mr. James    male    0      0   \n",
       "6                             McCarthy, Mr. Timothy J    male   54      0   \n",
       "7                      Palsson, Master. Gosta Leonard    male    2      3   \n",
       "8   Johnson, Mrs. Oscar W (Elisabeth Vilhelmina Berg)  female   27      0   \n",
       "9                 Nasser, Mrs. Nicholas (Adele Achem)  female   14      1   \n",
       "10                    Sandstrom, Miss. Marguerite Rut  female    4      1   \n",
       "11                           Bonnell, Miss. Elizabeth  female   58      0   \n",
       "12                     Saundercock, Mr. William Henry    male   20      0   \n",
       "13                        Andersson, Mr. Anders Johan    male   39      1   \n",
       "14               Vestrom, Miss. Hulda Amanda Adolfina  female   14      0   \n",
       "15                   Hewlett, Mrs. (Mary D Kingcome)   female   55      0   \n",
       "16                               Rice, Master. Eugene    male    2      4   \n",
       "17                       Williams, Mr. Charles Eugene    male    0      0   \n",
       "18  Vander Planke, Mrs. Julius (Emelia Maria Vande...  female   31      1   \n",
       "19                            Masselmani, Mrs. Fatima  female    0      0   \n",
       "\n",
       "    parch            ticket        fare cabin embarked  \n",
       "0       0         A/5 21171      7.2500   NaN        S  \n",
       "1       0          PC 17599     71.2833   C85        C  \n",
       "2       0  STON/O2. 3101282   7925.0000   NaN        S  \n",
       "3       0            113803     53.1000  C123        S  \n",
       "4       0            373450      8.0500   NaN        S  \n",
       "5       0            330877      8.4583   NaN        Q  \n",
       "6       0             17463     51.8625   E46        S  \n",
       "7       1            349909  21075.0000   NaN        S  \n",
       "8       2            347742     11.1333   NaN        S  \n",
       "9       0            237736     30.0708   NaN        C  \n",
       "10      1           PP 9549     16.7000    G6        S  \n",
       "11      0            113783     26.5500  C103        S  \n",
       "12      0         A/5. 2151      8.0500   NaN        S  \n",
       "13      5            347082  31275.0000   NaN        S  \n",
       "14      0            350406      7.8542   NaN        S  \n",
       "15      0            248706     16.0000   NaN        S  \n",
       "16      1            382652  29125.0000   NaN        Q  \n",
       "17      0            244373     13.0000   NaN        S  \n",
       "18      0            345763     18.0000   NaN        S  \n",
       "19      0              2649   7225.0000   NaN        C  "
      ]
     },
     "execution_count": 13,
     "metadata": {},
     "output_type": "execute_result"
    }
   ],
   "source": [
    "import pandas as pd\n",
    "df = pd.read_csv(csv_path, sep='\\t')\n",
    "df.head(20)"
   ]
  },
  {
   "cell_type": "code",
   "execution_count": 19,
   "metadata": {},
   "outputs": [
    {
     "name": "stdout",
     "output_type": "stream",
     "text": [
      "2.36 s ± 30.7 ms per loop (mean ± std. dev. of 7 runs, 1 loop each)\n"
     ]
    }
   ],
   "source": [
    "from elasticsearch import helpers, Elasticsearch\n",
    "import csv\n",
    "\n",
    "es = Elasticsearch(\"elasticsearch:9200\")\n",
    "\n",
    "reset_titanic()\n",
    "\n",
    "def indexing_titanic():\n",
    "    with open(csv_path) as f:\n",
    "        reader = csv.reader(f, delimiter=\"\\t\")\n",
    "        next(reader)\n",
    "        for row in reader:\n",
    "            TitanicPassenger(passengerid=row[0],\n",
    "                                   survived=row[1],\n",
    "                                   pclass=row[2],\n",
    "                                   name=row[3],\n",
    "                                   sex=row[4],\n",
    "                                   age=row[5],\n",
    "                                   sibsp=row[6],\n",
    "                                   parch=row[7],\n",
    "                                   ticket=row[8],\n",
    "                                   fare=row[9],\n",
    "                                   cabin=row[10],\n",
    "                                   embarked=row[11]).save()\n",
    "            \n",
    "\n",
    "%timeit indexing_titanic()"
   ]
  },
  {
   "cell_type": "code",
   "execution_count": 20,
   "metadata": {},
   "outputs": [
    {
     "name": "stdout",
     "output_type": "stream",
     "text": [
      "36.5 ms ± 1.15 ms per loop (mean ± std. dev. of 7 runs, 10 loops each)\n"
     ]
    }
   ],
   "source": [
    "from elasticsearch import helpers, Elasticsearch\n",
    "import csv\n",
    "\n",
    "es = Elasticsearch(\"elasticsearch:9200\")\n",
    "\n",
    "reset_titanic()\n",
    "\n",
    "def load_data():\n",
    "    data = []\n",
    "    with open(csv_path) as f:\n",
    "        reader = csv.reader(f, delimiter=\"\\t\")\n",
    "        next(reader)\n",
    "        for i, row in enumerate(reader):\n",
    "            yield {\n",
    "            \"_index\": \"titanic\",\n",
    "            \"_id\": row[0],\n",
    "            \"_source\":{\n",
    "                \"passengerid\": row[0],\n",
    "                \"survived\":row[1],\n",
    "                \"pclass\":row[2],\n",
    "                \"name\":row[3],\n",
    "                \"sex\":row[4],\n",
    "                \"age\":row[5],\n",
    "                \"sibsp\":row[6],\n",
    "                \"parch\":row[7],\n",
    "                \"ticket\":row[8],\n",
    "                \"fare\":row[9],\n",
    "                \"embarked\":row[11]\n",
    "                }\n",
    "            }\n",
    "\n",
    "\n",
    "%timeit helpers.bulk(es, load_data())\n"
   ]
  },
  {
   "cell_type": "markdown",
   "metadata": {},
   "source": [
    "### Comparativa de parrallel bulk indexing y sreaming bulk indexing."
   ]
  },
  {
   "cell_type": "code",
   "execution_count": 21,
   "metadata": {},
   "outputs": [
    {
     "name": "stdout",
     "output_type": "stream",
     "text": [
      "7.34 s ± 195 ms per loop (mean ± std. dev. of 7 runs, 1 loop each)\n",
      "3.2 s ± 71 ms per loop (mean ± std. dev. of 7 runs, 1 loop each)\n"
     ]
    }
   ],
   "source": [
    "from elasticsearch import Elasticsearch\n",
    "from elasticsearch import helpers\n",
    "\n",
    "def test_streaming_bulk():\n",
    "    actions = []\n",
    "    for i in range(0, 100000):\n",
    "        actions.append({'_index': 'test_index', '_type': 'test', 'x': i})\n",
    "    helpers.bulk(es, actions, False)\n",
    "    \n",
    "def test_parallel_bulk():\n",
    "    actions = []\n",
    "    for i in range(0, 100000):\n",
    "        actions.append({'_index': 'test_index', '_type': 'test', 'x': i})\n",
    "    parallel_bulk(es, actions)\n",
    "\n",
    "def parallel_bulk(client, actions, stats_only=False, **kwargs):\n",
    "    success, failed = 0, 0\n",
    "    # list of errors to be collected is not stats_only\n",
    "    errors = []\n",
    "    for ok, item in helpers.parallel_bulk(client, actions, **kwargs):\n",
    "        # print ok, item\n",
    "        # go through request-reponse pairs and detect failures\n",
    "        if not ok:\n",
    "            if not stats_only:\n",
    "                errors.append(item)\n",
    "            failed += 1\n",
    "        else:\n",
    "            success += 1\n",
    "    return success, failed if stats_only else errors\n",
    "\n",
    "\n",
    "%timeit test_streaming_bulk()\n",
    "%timeit test_parallel_bulk()"
   ]
  },
  {
   "cell_type": "code",
   "execution_count": 22,
   "metadata": {},
   "outputs": [
    {
     "name": "stdout",
     "output_type": "stream",
     "text": [
      "153) Meo, Mr. Alfonzo\n"
     ]
    }
   ],
   "source": [
    "search = TitanicPassenger.search().query(\"match\", name=\"Meo\")\n",
    "response = search.execute()\n",
    "result = [print(f\"{hit.passengerid}) {hit.name}\") for hit in search]  "
   ]
  },
  {
   "cell_type": "code",
   "execution_count": 23,
   "metadata": {},
   "outputs": [
    {
     "name": "stdout",
     "output_type": "stream",
     "text": [
      "{'aggs': {'title_terms': {'terms': {'field': 'survived'}}}}\n",
      "{'key': 0, 'doc_count': 102}\n",
      "{'key': 1, 'doc_count': 54}\n"
     ]
    }
   ],
   "source": [
    "from elasticsearch_dsl import A\n",
    "\n",
    "s = TitanicPassenger.search()\n",
    "a = A('terms', field='survived')\n",
    "s.aggs.bucket('title_terms', a)\n",
    "\n",
    "print(s.to_dict())\n",
    "\n",
    "t = s.execute()\n",
    "\n",
    "for vo in t.aggregations.title_terms.buckets:\n",
    "    print(vo)"
   ]
  },
  {
   "cell_type": "markdown",
   "metadata": {},
   "source": [
    "## Opensciencegrid example"
   ]
  },
  {
   "cell_type": "code",
   "execution_count": 24,
   "metadata": {},
   "outputs": [
    {
     "name": "stdout",
     "output_type": "stream",
     "text": [
      "992158\n",
      "\u001b[94m__________________________________________________________\u001b[0m\n",
      "\n",
      "\u001b[94m{\n",
      "    \"query\": {\n",
      "        \"bool\": {\n",
      "            \"filter\": [\n",
      "                {\n",
      "                    \"range\": {\n",
      "                        \"EndTime\": {\n",
      "                            \"gte\": \"now-360d\",\n",
      "                            \"lte\": \"now\"\n",
      "                        }\n",
      "                    }\n",
      "                }\n",
      "            ]\n",
      "        }\n",
      "    }\n",
      "}\u001b[0m\n",
      "\u001b[94m__________________________________________________________\u001b[0m\n"
     ]
    },
    {
     "data": {
      "text/plain": [
       "<matplotlib.axes._subplots.AxesSubplot at 0x7f600c73c2b0>"
      ]
     },
     "execution_count": 24,
     "metadata": {},
     "output_type": "execute_result"
    },
    {
     "data": {
      "image/png": "[encoded data removed]",
      "text/plain": [
       "<Figure size 432x288 with 1 Axes>"
      ]
     },
     "metadata": {
      "needs_background": "light"
     },
     "output_type": "display_data"
    }
   ],
   "source": [
    "from elasticsearch import Elasticsearch\n",
    "from elasticsearch_dsl import Search, A\n",
    "\n",
    "# https://gracc.opensciencegrid.org/q/gracc.osg.summary/_search\n",
    "\n",
    "gracc=Elasticsearch('https://gracc.opensciencegrid.org/q',timeout=120)\n",
    "\n",
    "# Last year\n",
    "start='now-360d'\n",
    "end='now'\n",
    "\n",
    "# GRACC summary index\n",
    "i='gracc.osg.summary'\n",
    "\n",
    "search = Search(using=gracc, index=i).filter(\"range\",EndTime={'gte':start,'lte':end})\n",
    "count = search.count()\n",
    "\n",
    "# Numero de elementos de la agregación.\n",
    "print(count)\n",
    "\n",
    "json_print(search.to_dict())\n",
    "\n",
    "a = A('terms', field='OIM_Organization')\n",
    "search.aggs.bucket('organization_terms', a)\n",
    "\n",
    "t = search.execute()\n",
    "\n",
    "# Normalizamos datos para pinter grafica.\n",
    "from pandas.io.json import json_normalize\n",
    "df = json_normalize(t.to_dict()['aggregations']['organization_terms']['buckets'])\n",
    "df.head()\n",
    "\n",
    "\n",
    "%matplotlib inline\n",
    "\n",
    "df.plot.barh(x='key',y='doc_count')\n"
   ]
  },
  {
   "cell_type": "code",
   "execution_count": 33,
   "metadata": {},
   "outputs": [
    {
     "data": {
      "image/png": "[encoded data removed]",
      "text/plain": [
       "<Figure size 432x288 with 1 Axes>"
      ]
     },
     "metadata": {},
     "output_type": "display_data"
    }
   ],
   "source": [
    "import matplotlib.pyplot as plt\n",
    "\n",
    "organization_array = []\n",
    "count_array = []\n",
    "for vo in t.aggregations.organization_terms.buckets:\n",
    "    organization_array.append(vo['key'])\n",
    "    count_array.append(vo['doc_count'])\n",
    "\n",
    "fig1, ax1 = plt.subplots()\n",
    "\n",
    "ax1.pie(count_array, labels=organization_array, shadow=True, startangle=90)\n",
    "ax1.axis('equal')  # Equal aspect ratio ensures that pie is drawn as a circle.\n",
    "\n",
    "plt.show()"
   ]
  },
  {
   "cell_type": "code",
   "execution_count": null,
   "metadata": {},
   "outputs": [],
   "source": []
  }
 ],
 "metadata": {
  "kernelspec": {
   "display_name": "Python 3",
   "language": "python",
   "name": "python3"
  },
  "language_info": {
   "codemirror_mode": {
    "name": "ipython",
    "version": 3
   },
   "file_extension": ".py",
   "mimetype": "text/x-python",
   "name": "python",
   "nbconvert_exporter": "python",
   "pygments_lexer": "ipython3",
   "version": "3.7.3"
  }
 },
 "nbformat": 4,
 "nbformat_minor": 2
}
